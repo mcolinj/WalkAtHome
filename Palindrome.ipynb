{
 "cells": [
  {
   "cell_type": "code",
   "execution_count": 26,
   "metadata": {},
   "outputs": [
    {
     "name": "stdout",
     "output_type": "stream",
     "text": [
      "Found pal(2) at index 5\n",
      "Max so far is 2\n",
      "Found pal(2) at index 7\n",
      "Found pal(3) at index 1\n",
      "Max so far is 3\n",
      "Found pal(5) at index 0\n",
      "Max so far is 5\n"
     ]
    },
    {
     "data": {
      "text/plain": [
       "(0, '12321')"
      ]
     },
     "execution_count": 26,
     "metadata": {},
     "output_type": "execute_result"
    }
   ],
   "source": [
    "def is_palindrome(seq):\n",
    "    for idx in range(len(seq)):\n",
    "        if seq[0+idx] != seq[-1-idx]:\n",
    "            return False\n",
    "    return True\n",
    "\n",
    "def pal_at_index(n, i, seq):\n",
    "    return is_palindrome(seq[i:i+n])\n",
    "\n",
    "\n",
    "def max_palindrome(seq):\n",
    "    maxlen = 0\n",
    "    maxidx = 0\n",
    "    maxpal = \"\"\n",
    "    for pal_len in range(2,len(seq)):\n",
    "        lenkey = str(pal_len)\n",
    "        for idx in range(len(seq)-pal_len):\n",
    "            if pal_at_index(pal_len, idx, seq):\n",
    "                print(\"Found pal({}) at index {}\".format(pal_len, idx))\n",
    "                if pal_len > maxlen:\n",
    "                    maxlen = pal_len\n",
    "                    maxidx = idx\n",
    "                    maxpal = seq[idx:idx+pal_len]\n",
    "                    print(\"Max so far is {}\".format(maxlen))\n",
    "                \n",
    "    return (maxidx, maxpal)\n",
    "\n",
    "\n",
    "seq = \"12321334454\"\n",
    "max_palindrome(seq)\n",
    "\n",
    "\n"
   ]
  },
  {
   "cell_type": "code",
   "execution_count": null,
   "metadata": {},
   "outputs": [],
   "source": []
  },
  {
   "cell_type": "code",
   "execution_count": null,
   "metadata": {},
   "outputs": [],
   "source": []
  }
 ],
 "metadata": {
  "kernelspec": {
   "display_name": "Python 2",
   "language": "python",
   "name": "python2"
  },
  "language_info": {
   "codemirror_mode": {
    "name": "ipython",
    "version": 2
   },
   "file_extension": ".py",
   "mimetype": "text/x-python",
   "name": "python",
   "nbconvert_exporter": "python",
   "pygments_lexer": "ipython2",
   "version": "2.7.14"
  }
 },
 "nbformat": 4,
 "nbformat_minor": 2
}
