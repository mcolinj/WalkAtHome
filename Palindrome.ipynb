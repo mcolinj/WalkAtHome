{
 "cells": [
  {
   "cell_type": "code",
   "execution_count": 2,
   "metadata": {},
   "outputs": [
    {
     "name": "stdout",
     "output_type": "stream",
     "text": [
      "Je has 0 length palindrome  found at index 0\n",
      "Ki has 3 length palindrome 636 found at index 10\n",
      "Ta has 3 length palindrome 151 found at index 0\n",
      "Ra has 3 length palindrome 858 found at index 15\n",
      "Ab has 3 length palindrome 414 found at index 2\n",
      "Su has 3 length palindrome 575 found at index 0\n",
      "Yi has 4 length palindrome 4114 found at index 51\n",
      "Kr has 4 length palindrome 7447 found at index 30\n",
      "Ma has 5 length palindrome 78287 found at index 35\n",
      "Co has 5 length palindrome 67676 found at index 3\n",
      "We has 5 length palindrome 00100 found at index 148\n",
      "Vr has 5 length palindrome 27872 found at index 138\n",
      "Ch has 5 length palindrome 25952 found at index 48\n",
      "Sr has 6 length palindrome 001100 found at index 49\n",
      "Ke has 7 length palindrome 4146414 found at index 12\n",
      "Vi has 8 length palindrome 02011020 found at index 127\n",
      "Bo has 9 length palindrome 121121121 found at index 176\n",
      "Pa has 10 length palindrome 6217777126 found at index 1\n",
      "Am has 19 length palindrome 1100060008000600011 found at index 13\n"
     ]
    }
   ],
   "source": [
    "OFF_BY_ONE = 1\n",
    "\n",
    "def palindrome_sanitize(element):\n",
    "    return element\n",
    "\n",
    "def is_palindrome(seq):\n",
    "   for idx in range(len(seq)):\n",
    "       if seq[0+idx] != seq[-1-idx]:\n",
    "           return False\n",
    "   return True\n",
    "\n",
    "def pal_at_index(n, i, seq):\n",
    "   return is_palindrome(seq[i:i+n])\n",
    "\n",
    "def max_palindrome(seq):\n",
    "   maxlen = 0\n",
    "   maxidx = 0\n",
    "   maxpal = \"\"\n",
    "   for pal_len in range(2,len(seq)):\n",
    "       for idx in range(len(seq)-pal_len+OFF_BY_ONE):\n",
    "           if pal_at_index(pal_len, idx, seq):\n",
    "               if pal_len > maxlen:\n",
    "                   maxlen = pal_len\n",
    "                   maxidx = idx\n",
    "                   maxpal = seq[idx:idx+pal_len]\n",
    "   return (maxidx, maxpal)\n",
    "\n",
    "# detect off-by-one-error\n",
    "#x = \"555512321\"\n",
    "#print(max_palindrome(x))\n",
    "\n",
    "import steps\n",
    "s = steps.Steps(42, \"data.csv\", sanitize_fn=palindrome_sanitize)\n",
    "\n",
    "dromes = []\n",
    "for part in s.parts():\n",
    "    \"\"\"\n",
    "    Join all steps for the participant into a single sequence.\n",
    "    Then search for a palindrome and store the result.\n",
    "    \"\"\"\n",
    "    seq = \"\".join(s.dat(part))\n",
    "    maxpal = max_palindrome(seq)\n",
    "    dromes.append( (part, maxpal[0], maxpal[1]) )\n",
    "\n",
    "\n",
    "def by_drome_len(drome):\n",
    "    \"\"\"\n",
    "    Sorting key used to order the output results.\n",
    "    Return the length of the palendrome.\n",
    "    \"\"\"\n",
    "    return len(drome[2])\n",
    "\n",
    "dromes.sort(key=by_drome_len)\n",
    "\n",
    "for part,idx,drome in dromes:\n",
    "    print(\"{} has {} length palindrome {} found at index {}\".format(part, len(drome), drome, idx))\n",
    "    \n",
    "\n"
   ]
  },
  {
   "cell_type": "code",
   "execution_count": null,
   "metadata": {},
   "outputs": [],
   "source": []
  },
  {
   "cell_type": "code",
   "execution_count": null,
   "metadata": {},
   "outputs": [],
   "source": []
  }
 ],
 "metadata": {
  "kernelspec": {
   "display_name": "Python 2",
   "language": "python",
   "name": "python2"
  },
  "language_info": {
   "codemirror_mode": {
    "name": "ipython",
    "version": 3
   },
   "file_extension": ".py",
   "mimetype": "text/x-python",
   "name": "python",
   "nbconvert_exporter": "python",
   "pygments_lexer": "ipython3",
   "version": "3.7.3"
  }
 },
 "nbformat": 4,
 "nbformat_minor": 4
}
