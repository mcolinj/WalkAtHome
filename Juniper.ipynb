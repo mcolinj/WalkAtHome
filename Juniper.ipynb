{
 "cells": [
  {
   "cell_type": "code",
   "execution_count": 1,
   "metadata": {},
   "outputs": [
    {
     "name": "stdout",
     "output_type": "stream",
     "text": [
      "Ma only has dict_keys(['u', 'e', 'n', 'i', 'r'])\n",
      "Vi only has dict_keys(['e', 'n', 'i', 'r', 'u'])\n",
      "Co only has dict_keys(['e', 'r', 'n', 'u', 'i'])\n",
      "Yi has a juniper BINGO at index 19\n",
      "We only has dict_keys(['u', 'n', 'i', 'e', 'r'])\n",
      "Bo only has dict_keys(['e', 'u', 'r', 'i'])\n",
      "Ki only has dict_keys(['e', 'i', 'u', 'n', 'p', 'r'])\n",
      "Pa only has dict_keys(['n', 'e', 'r', 'i', 'u'])\n",
      "Vr only has dict_keys(['n', 'e', 'i', 'p', 'u'])\n",
      "Am only has dict_keys(['e', 'r', 'i', 'n'])\n",
      "Sr only has dict_keys(['r', 'e', 'i', 'n', 'j'])\n",
      "Ta only has dict_keys(['r', 'e', 'p', 'i', 'u'])\n",
      "Kr only has dict_keys(['i', 'e', 'n'])\n",
      "Ra only has dict_keys(['i', 'e', 'r', 'n', 'j', 'u'])\n",
      "Ke only has dict_keys(['i', 'e', 'n', 'r'])\n",
      "Ab only has dict_keys([])\n",
      "Ch only has dict_keys(['i', 'u', 'e', 'r'])\n",
      "Su only has dict_keys(['i', 'r', 'u', 'e', 'p'])\n",
      "Je only has dict_keys([])\n"
     ]
    }
   ],
   "source": [
    "import scrabble\n",
    "import steps\n",
    "import six\n",
    "from sys import stderr\n",
    "\n",
    "target = \"juniper\"\n",
    "\n",
    "deal = scrabble.Scrabble(10)\n",
    "\n",
    "def sanitize(steps_today):\n",
    "    return steps_today\n",
    "\n",
    "s = steps.Steps(42, \"data.csv\", sanitize_fn=sanitize)\n",
    "\n",
    "for part in s.parts():\n",
    "    \"\"\"\n",
    "    Concatenate steps and break into pairs\n",
    "    map each two digit pair to scrabble letters\n",
    "    \"\"\"\n",
    "    last_3_weeks =  s.dat(part)[-21:]\n",
    "    steps = \"\".join(last_3_weeks)\n",
    "    pairs = [steps[i:i+2] for i in range(0, len(steps), 2)]\n",
    "    letters = [deal.tile_by_index(int(pair)) for pair in pairs]\n",
    "    \n",
    "    #six.print_(\"Words for {}\".format(part))\n",
    "    #six.print_(\"Steps: {}\".format(steps))\n",
    "    #six.print_(\"Letters: {}\".format(''.join(letters)))\n",
    "\n",
    "    card = {}\n",
    "    \n",
    "    for index,letter in enumerate(letters):\n",
    "        if not letter in card and letter in target:\n",
    "            card[letter] = index\n",
    "        \n",
    "    if len(card.keys()) == len(target):\n",
    "        six.print_(\"{} has a {} BINGO at index {}\".format(part, target, max(card.values())))\n",
    "    else:\n",
    "        six.print_(\"{} only has {}\".format(part, card.keys()))\n",
    "\n",
    "    \n",
    "    "
   ]
  },
  {
   "cell_type": "code",
   "execution_count": null,
   "metadata": {},
   "outputs": [],
   "source": []
  }
 ],
 "metadata": {
  "kernelspec": {
   "display_name": "Python 3",
   "language": "python",
   "name": "python3"
  },
  "language_info": {
   "codemirror_mode": {
    "name": "ipython",
    "version": 3
   },
   "file_extension": ".py",
   "mimetype": "text/x-python",
   "name": "python",
   "nbconvert_exporter": "python",
   "pygments_lexer": "ipython3",
   "version": "3.7.3"
  }
 },
 "nbformat": 4,
 "nbformat_minor": 4
}
