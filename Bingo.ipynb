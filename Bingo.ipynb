{
 "cells": [
  {
   "cell_type": "code",
   "execution_count": 6,
   "metadata": {},
   "outputs": [
    {
     "name": "stdout",
     "output_type": "stream",
     "text": [
      "Ma has only 9 completed entries in card 1\n",
      "Ma has only 9 completed entries in card 2\n",
      "Ma has only 9 completed entries in card 3\n",
      "Ma has only 9 completed entries in card 4\n",
      "Vi has only 10 completed entries in card 2\n",
      "Vi has only 9 completed entries in card 3\n",
      "Vi has only 10 completed entries in card 4\n",
      "Co has only 9 completed entries in card 1\n",
      "Co has only 8 completed entries in card 2\n",
      "Co has only 10 completed entries in card 3\n",
      "Co has only 10 completed entries in card 4\n",
      "Yi has only 9 completed entries in card 1\n",
      "Yi has only 10 completed entries in card 2\n",
      "Yi has only 10 completed entries in card 3\n",
      "Yi has only 10 completed entries in card 4\n",
      "We has only 9 completed entries in card 2\n",
      "We has only 10 completed entries in card 3\n",
      "We has only 9 completed entries in card 4\n",
      "Bo has only 9 completed entries in card 1\n",
      "Bo has only 8 completed entries in card 2\n",
      "Bo has only 9 completed entries in card 3\n",
      "Bo has only 10 completed entries in card 4\n",
      "Ki has only 8 completed entries in card 1\n",
      "Ki has only 10 completed entries in card 2\n",
      "Ki has only 9 completed entries in card 3\n",
      "Ki has only 9 completed entries in card 4\n",
      "Pa has only 10 completed entries in card 2\n",
      "Pa has only 10 completed entries in card 3\n",
      "Pa has only 10 completed entries in card 4\n",
      "Vr has only 8 completed entries in card 1\n",
      "Vr has only 9 completed entries in card 2\n",
      "Vr has only 9 completed entries in card 3\n",
      "Vr has only 9 completed entries in card 4\n",
      "Sr has only 9 completed entries in card 1\n",
      "Sr has only 10 completed entries in card 2\n",
      "Ta has only 8 completed entries in card 1\n",
      "Ta has only 8 completed entries in card 2\n",
      "Ta has only 9 completed entries in card 3\n",
      "Kr has only 10 completed entries in card 2\n",
      "Kr has only 10 completed entries in card 3\n",
      "Kr has only 10 completed entries in card 4\n",
      "Ra has only 10 completed entries in card 2\n",
      "Ra has only 10 completed entries in card 3\n",
      "Ra has only 8 completed entries in card 4\n",
      "Ke has only 10 completed entries in card 2\n",
      "Ke has only 9 completed entries in card 3\n",
      "Ke has only 10 completed entries in card 4\n",
      "Ch has only 9 completed entries in card 1\n",
      "Ch has only 9 completed entries in card 2\n",
      "Ch has only 9 completed entries in card 3\n",
      "Ch has only 9 completed entries in card 4\n"
     ]
    }
   ],
   "source": [
    "import steps\n",
    "s = steps.Steps(27, \"RPD-WalkAtHome-20200507.csv\")\n",
    "\n",
    "for part in s.parts():\n",
    "    s.bingo(part)\n"
   ]
  },
  {
   "cell_type": "code",
   "execution_count": null,
   "metadata": {},
   "outputs": [],
   "source": []
  },
  {
   "cell_type": "code",
   "execution_count": null,
   "metadata": {},
   "outputs": [],
   "source": []
  },
  {
   "cell_type": "code",
   "execution_count": null,
   "metadata": {},
   "outputs": [],
   "source": []
  }
 ],
 "metadata": {
  "kernelspec": {
   "display_name": "Python 3",
   "language": "python",
   "name": "python3"
  },
  "language_info": {
   "codemirror_mode": {
    "name": "ipython",
    "version": 3
   },
   "file_extension": ".py",
   "mimetype": "text/x-python",
   "name": "python",
   "nbconvert_exporter": "python",
   "pygments_lexer": "ipython3",
   "version": "3.7.3"
  }
 },
 "nbformat": 4,
 "nbformat_minor": 4
}
