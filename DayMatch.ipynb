{
 "cells": [
  {
   "cell_type": "code",
   "execution_count": 12,
   "metadata": {},
   "outputs": [
    {
     "name": "stdout",
     "output_type": "stream",
     "text": [
      "Ma has 5 matches\n",
      "Vi has 15 matches\n",
      "Co has 10 matches\n",
      "Yi has 8 matches\n",
      "We has 10 matches\n",
      "Bo has 7 matches\n",
      "Ki has 4 matches\n",
      "Pa has 4 matches\n",
      "Vr has 8 matches\n",
      "Am has 2 matches\n",
      "Sr has 5 matches\n",
      "Ta has 6 matches\n",
      "Kr has 6 matches\n",
      "Ra has 8 matches\n",
      "Ke has 9 matches\n",
      "Ab has 0 matches\n",
      "Ch has 2 matches\n",
      "Su has 4 matches\n",
      "Je has 0 matches\n"
     ]
    }
   ],
   "source": [
    "import steps\n",
    "import six\n",
    "from sys import stderr\n",
    "\n",
    "def sanitize(element):\n",
    "    pad_to = '0'\n",
    "    if element.strip() == '':\n",
    "        return pad_to\n",
    "    else:\n",
    "        return element.zfill(len(pad_to))\n",
    "\n",
    "s = steps.Steps(42, \"data.csv\", sanitize_fn=sanitize)\n",
    "\n",
    "#     Heading is of the form Dd-nn, e.g. Mo-05, so grab end digits\n",
    "headings = [heading[-2:] for heading in s.headings]\n",
    "#     Drop the Geo and participants labels\n",
    "headings = headings[2:]\n",
    "\n",
    "\n",
    "for part in s.parts():\n",
    "    \"\"\"\n",
    "    Look for an occurence of the day of the month in the\n",
    "    steps entered for that day.  (and count it!)\n",
    "    \"\"\"\n",
    "    match_count = 0\n",
    "    for idx,daily_steps in enumerate(s.dat(part)):\n",
    "        # strip leading 0 when possible\n",
    "        # print(\"Index {} contains {}\".format(idx, headings[idx]))\n",
    "        day = int(headings[idx])\n",
    "        day_str = str(day)\n",
    "        #print(\"Index {} contains {} stripped to {}\".format(idx, headings[idx], day_str))\n",
    "        if daily_steps.find(day_str) != -1:\n",
    "            match_count+=1\n",
    "    \n",
    "    six.print_(\"{} has {} matches\".format(part, match_count))\n",
    "      \n",
    "\n"
   ]
  },
  {
   "cell_type": "code",
   "execution_count": null,
   "metadata": {},
   "outputs": [],
   "source": []
  },
  {
   "cell_type": "code",
   "execution_count": null,
   "metadata": {},
   "outputs": [],
   "source": []
  }
 ],
 "metadata": {
  "kernelspec": {
   "display_name": "Python 3",
   "language": "python",
   "name": "python3"
  },
  "language_info": {
   "codemirror_mode": {
    "name": "ipython",
    "version": 3
   },
   "file_extension": ".py",
   "mimetype": "text/x-python",
   "name": "python",
   "nbconvert_exporter": "python",
   "pygments_lexer": "ipython3",
   "version": "3.7.3"
  }
 },
 "nbformat": 4,
 "nbformat_minor": 4
}
