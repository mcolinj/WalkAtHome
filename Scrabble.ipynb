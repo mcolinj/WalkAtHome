{
 "cells": [
  {
   "cell_type": "code",
   "execution_count": 2,
   "metadata": {},
   "outputs": [
    {
     "name": "stdout",
     "output_type": "stream",
     "text": [
      "['49', '13', '80', '80', '33', '00']\n",
      "['h', 'e', 'l', 'l', 'o', 'o']\n"
     ]
    },
    {
     "ename": "AttributeError",
     "evalue": "'str' object has no attribute 'Steps'",
     "output_type": "error",
     "traceback": [
      "\u001b[0;31m---------------------------------------------------------------------------\u001b[0m",
      "\u001b[0;31mAttributeError\u001b[0m                            Traceback (most recent call last)",
      "\u001b[0;32m<ipython-input-2-06dde1323859>\u001b[0m in \u001b[0;36m<module>\u001b[0;34m()\u001b[0m\n\u001b[1;32m     35\u001b[0m     \u001b[0;32mreturn\u001b[0m \u001b[0msanitize\u001b[0m\u001b[0;34m\u001b[0m\u001b[0m\n\u001b[1;32m     36\u001b[0m \u001b[0;34m\u001b[0m\u001b[0m\n\u001b[0;32m---> 37\u001b[0;31m \u001b[0ms\u001b[0m \u001b[0;34m=\u001b[0m \u001b[0msteps\u001b[0m\u001b[0;34m.\u001b[0m\u001b[0mSteps\u001b[0m\u001b[0;34m(\u001b[0m\u001b[0;36m26\u001b[0m\u001b[0;34m,\u001b[0m \u001b[0;34m\"RPD-WalkAtHome-20200426.csv\"\u001b[0m\u001b[0;34m,\u001b[0m \u001b[0msanitize_fn\u001b[0m\u001b[0;34m=\u001b[0m\u001b[0msanitize\u001b[0m\u001b[0;34m)\u001b[0m\u001b[0;34m\u001b[0m\u001b[0m\n\u001b[0m\u001b[1;32m     38\u001b[0m \u001b[0;34m\u001b[0m\u001b[0m\n\u001b[1;32m     39\u001b[0m \u001b[0;32mfor\u001b[0m \u001b[0mpart\u001b[0m \u001b[0;32min\u001b[0m \u001b[0ms\u001b[0m\u001b[0;34m:\u001b[0m\u001b[0;34m\u001b[0m\u001b[0m\n",
      "\u001b[0;31mAttributeError\u001b[0m: 'str' object has no attribute 'Steps'"
     ]
    }
   ],
   "source": [
    "import random\n",
    "import string\n",
    "import subprocess\n",
    "import steps\n",
    "\n",
    "scrabble_tiles = \"AAAAAAAAABBCCDDDDEEEEEEEEEEEEFFGGGHHIIIIIIIIIJKLLLLMMNNNNNNOOOOOOOOPPQRRRRRRSSSSTTTTTTUUUUVVWWXYYZJN\"\n",
    "lc_tiles = scrabble_tiles.lower()\n",
    "rnd = random.Random(5)\n",
    "scrambled_scrabble = rnd.sample(lc_tiles, len(lc_tiles))\n",
    "\n",
    "#print([x for x in enumerate(scrambled_scrabble)])\n",
    "# spells \"HELLO\" for Random(5)\n",
    "steps = \"4913 8080 3300\"\n",
    "steps = steps.translate(None, string.whitespace)\n",
    "\n",
    "#geturl(\"https://scrabble.merriam.com/words/\")\n",
    "\n",
    "pairs = [steps[i:i+2] for i in range(0, len(steps), 2)]\n",
    "\n",
    "print(pairs)\n",
    "\n",
    "letters = [scrambled_scrabble[int(pair)] for pair in pairs]\n",
    "\n",
    "print(letters)\n",
    "\n",
    "def isaword(word):\n",
    "    cmd = \"\"\"egrep \"^{}$\" /usr/share/dict/words\"\"\".format(word)\n",
    "    try:\n",
    "        subprocess.check_output(cmd, shell=True)\n",
    "        return True\n",
    "    except:\n",
    "        return False\n",
    "\n",
    "def sanitize(steps_today):\n",
    "    return sanitize\n",
    "\n",
    "s = steps.Steps(26, \"RPD-WalkAtHome-20200426.csv\", sanitize_fn=sanitize)\n",
    "\n",
    "for part in s:\n",
    "    \"\"\"\n",
    "    Concatenate steps and break into pairs\n",
    "    map each two digit pair to scrabble letters\n",
    "    \"\"\"\n",
    "    steps = ''.join(s.__get_attr__(part))\n",
    "    steps = steps.translate(None, string.whitespace)\n",
    "    pairs = [steps[i:i+2] for i in range(0, len(steps), 2)]\n",
    "    letters = [scrambled_scrabble[int(pair)] for pair in pairs]\n",
    "    \"\"\"\n",
    "    \n",
    "    \"\"\"\n",
    "    for wordlen in range(2, 10):\n",
    "        for i in range(len(letters)-wordlen+1):\n",
    "            wordcand = ''.join(letters[i:i+wordlen])\n",
    "            if isaword(wordcand):\n",
    "                six.print_('{} is a word'.format(wordcand))\n",
    " \n",
    "           \n"
   ]
  },
  {
   "cell_type": "code",
   "execution_count": 1,
   "metadata": {},
   "outputs": [
    {
     "ename": "NameError",
     "evalue": "name 'scrabble_tiles' is not defined",
     "output_type": "error",
     "traceback": [
      "\u001b[0;31m---------------------------------------------------------------------------\u001b[0m",
      "\u001b[0;31mNameError\u001b[0m                                 Traceback (most recent call last)",
      "\u001b[0;32m<ipython-input-1-20c5f13bcdd3>\u001b[0m in \u001b[0;36m<module>\u001b[0;34m()\u001b[0m\n\u001b[0;32m----> 1\u001b[0;31m \u001b[0;32mprint\u001b[0m\u001b[0;34m(\u001b[0m\u001b[0mscrabble_tiles\u001b[0m\u001b[0;34m[\u001b[0m\u001b[0;36m50\u001b[0m\u001b[0;34m]\u001b[0m\u001b[0;34m)\u001b[0m\u001b[0;34m\u001b[0m\u001b[0m\n\u001b[0m",
      "\u001b[0;31mNameError\u001b[0m: name 'scrabble_tiles' is not defined"
     ]
    }
   ],
   "source": [
    "print(scrabble_tiles[50])"
   ]
  },
  {
   "cell_type": "code",
   "execution_count": null,
   "metadata": {},
   "outputs": [],
   "source": []
  }
 ],
 "metadata": {
  "kernelspec": {
   "display_name": "Python 2",
   "language": "python",
   "name": "python2"
  }
 },
 "nbformat": 4,
 "nbformat_minor": 2
}
